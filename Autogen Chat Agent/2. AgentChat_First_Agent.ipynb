{
 "cells": [
  {
   "cell_type": "code",
   "execution_count": 21,
   "id": "49186faa",
   "metadata": {},
   "outputs": [],
   "source": [
    "from autogen_agentchat.agents import AssistantAgent\n",
    "from autogen_ext.models.openai import OpenAIChatCompletionClient\n",
    "from dotenv import load_dotenv\n",
    "import os\n",
    "\n",
    "load_dotenv()\n",
    "\n",
    "api_key = os.getenv('OPENAI_API_KEY')"
   ]
  },
  {
   "cell_type": "code",
   "execution_count": 22,
   "id": "04f9be9f",
   "metadata": {},
   "outputs": [],
   "source": [
    "model_client = OpenAIChatCompletionClient(model='gpt-4',api_key=api_key)"
   ]
  },
  {
   "cell_type": "markdown",
   "id": "bb25f6d2",
   "metadata": {},
   "source": [
    "Creating Our First Assistant Agent\n",
    "\n",
    "The AssistatntAgent is a versatile agent for conversations, powered by AgentChat"
   ]
  },
  {
   "cell_type": "code",
   "execution_count": 23,
   "id": "ea626950",
   "metadata": {},
   "outputs": [],
   "source": [
    "assistant = AssistantAgent(name = 'assistant',model_client=model_client)"
   ]
  },
  {
   "cell_type": "markdown",
   "id": "c334acbf",
   "metadata": {},
   "source": [
    "Testing the AssistantAgent\n",
    "\n",
    "We will use the run method to send a task and get a response."
   ]
  },
  {
   "cell_type": "code",
   "execution_count": null,
   "id": "53af1202",
   "metadata": {},
   "outputs": [],
   "source": [
    "result = await assistant.run(task = \"what is the capital of France?\")\n",
    "print(result)"
   ]
  }
 ],
 "metadata": {
  "kernelspec": {
   "display_name": "venv",
   "language": "python",
   "name": "python3"
  },
  "language_info": {
   "codemirror_mode": {
    "name": "ipython",
    "version": 3
   },
   "file_extension": ".py",
   "mimetype": "text/x-python",
   "name": "python",
   "nbconvert_exporter": "python",
   "pygments_lexer": "ipython3",
   "version": "3.13.7"
  }
 },
 "nbformat": 4,
 "nbformat_minor": 5
}
