{
 "cells": [
  {
   "cell_type": "code",
   "execution_count": 8,
   "id": "d4eef86d",
   "metadata": {},
   "outputs": [
    {
     "name": "stdout",
     "output_type": "stream",
     "text": [
      "Brewing Coffee\n",
      "Toasting Bagel\n",
      "Coffee: Coffee is ready! | Bagel: Bagel is ready! | Total Time: 5.00 seconds\n"
     ]
    }
   ],
   "source": [
    "import time\n",
    "\n",
    "def  brew_coffee():\n",
    "    print(\"Brewing Coffee\")\n",
    "    time.sleep(3)\n",
    "    return \"Coffee is ready!\"\n",
    "\n",
    "def toast_bagel():\n",
    "    print(\"Toasting Bagel\")\n",
    "    time.sleep(2)\n",
    "    return \"Bagel is ready!\"\n",
    "\n",
    "def  main():\n",
    "    start = time.time()\n",
    "    coffee = brew_coffee()\n",
    "    #time.sleep(2)\n",
    "    bagel = toast_bagel()\n",
    "\n",
    "    end = time.time()\n",
    "\n",
    "    print(f\"Coffee: {coffee} | Bagel: {bagel} | Total Time: {end - start:.2f} seconds\")\n",
    "\n",
    "main()\n",
    "    "
   ]
  },
  {
   "cell_type": "markdown",
   "id": "8913b194",
   "metadata": {},
   "source": [
    "Asynchronous Version"
   ]
  },
  {
   "cell_type": "code",
   "execution_count": 10,
   "id": "cbdfd0c5",
   "metadata": {},
   "outputs": [
    {
     "name": "stdout",
     "output_type": "stream",
     "text": [
      "starting brew_coffee\n",
      "starting toast_bagel\n",
      "bagel ready\n",
      "coffee ready\n",
      "Time: 3.00 minutes\n"
     ]
    }
   ],
   "source": [
    "import asyncio\n",
    "import time\n",
    "\n",
    "async def brew_coffee():\n",
    "    print(\"starting brew_coffee\")\n",
    "    await asyncio.sleep(3)\n",
    "    print(\"coffee ready\")\n",
    "\n",
    "async def toast_bagel():\n",
    "    print(\"starting toast_bagel\")\n",
    "    await asyncio.sleep(2)\n",
    "    print(\"bagel ready\")\n",
    "\n",
    "async def main():\n",
    "    start = time.time()\n",
    "    coffee = brew_coffee()\n",
    "    bagel = toast_bagel()\n",
    "    \n",
    "    results = await asyncio.gather(coffee, bagel)\n",
    "\n",
    "    end = time.time()\n",
    "\n",
    "    print(f\"Time: {end-start:.2f} minutes\")\n",
    "\n",
    "await main()\n"
   ]
  },
  {
   "cell_type": "markdown",
   "id": "3cf337bd",
   "metadata": {},
   "source": [
    "With Tasks"
   ]
  },
  {
   "cell_type": "code",
   "execution_count": 15,
   "id": "abb93060",
   "metadata": {},
   "outputs": [
    {
     "name": "stdout",
     "output_type": "stream",
     "text": [
      "starting brew_coffee\n",
      "starting toast_bagel\n",
      "bagel ready\n",
      "coffee ready\n",
      "Time : 3.01 minutes\n"
     ]
    }
   ],
   "source": [
    "import asyncio\n",
    "import time\n",
    "\n",
    "async def brew_coffee_async():\n",
    "    print(\"starting brew_coffee\")\n",
    "    await asyncio.sleep(3)\n",
    "    print(\"coffee ready\")\n",
    "\n",
    "async def toast_bagel_async():\n",
    "    print(\"starting toast_bagel\")\n",
    "    await asyncio.sleep(2)\n",
    "    print(\"bagel ready\")\n",
    "\n",
    "\n",
    "async def main_individual():\n",
    "    start = time.time()\n",
    "    coffee_task =  asyncio.create_task(brew_coffee_async())\n",
    "    bagel_task = asyncio.create_task(toast_bagel_async())\n",
    "\n",
    "    coffee = await coffee_task\n",
    "    bagel = await bagel_task\n",
    "\n",
    "    end = time.time()\n",
    "\n",
    "    print(f\"Time : {end - start:.2f} minutes\")\n",
    "\n",
    "\n",
    "await (main_individual())"
   ]
  }
 ],
 "metadata": {
  "kernelspec": {
   "display_name": "venv",
   "language": "python",
   "name": "python3"
  },
  "language_info": {
   "codemirror_mode": {
    "name": "ipython",
    "version": 3
   },
   "file_extension": ".py",
   "mimetype": "text/x-python",
   "name": "python",
   "nbconvert_exporter": "python",
   "pygments_lexer": "ipython3",
   "version": "3.13.7"
  }
 },
 "nbformat": 4,
 "nbformat_minor": 5
}
