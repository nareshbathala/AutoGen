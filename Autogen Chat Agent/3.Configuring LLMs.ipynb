{
 "cells": [
  {
   "cell_type": "markdown",
   "id": "8a5ee2f4",
   "metadata": {},
   "source": [
    "Gemini"
   ]
  },
  {
   "cell_type": "code",
   "execution_count": 7,
   "id": "0aa88a4b",
   "metadata": {},
   "outputs": [
    {
     "name": "stdout",
     "output_type": "stream",
     "text": [
      "I am a large language model, trained by Google.\n",
      "\n"
     ]
    }
   ],
   "source": [
    "from autogen_core.models import UserMessage\n",
    "from autogen_ext.models.openai import OpenAIChatCompletionClient\n",
    "from dotenv import load_dotenv\n",
    "import os\n",
    "\n",
    "\n",
    "load_dotenv()\n",
    "\n",
    "api_key =  os.getenv('GEMINI_API_KEY')\n",
    "\n",
    "model_client = OpenAIChatCompletionClient(\n",
    "    model =\"gemini-1.5-flash-8b\",\n",
    "    api_key=api_key\n",
    "    \n",
    ")\n",
    "response = await model_client.create([UserMessage(content=\"Who are you?\",source=\"user\")])\n",
    "print(response.content)\n"
   ]
  }
 ],
 "metadata": {
  "kernelspec": {
   "display_name": "venv",
   "language": "python",
   "name": "python3"
  },
  "language_info": {
   "codemirror_mode": {
    "name": "ipython",
    "version": 3
   },
   "file_extension": ".py",
   "mimetype": "text/x-python",
   "name": "python",
   "nbconvert_exporter": "python",
   "pygments_lexer": "ipython3",
   "version": "3.13.7"
  }
 },
 "nbformat": 4,
 "nbformat_minor": 5
}
