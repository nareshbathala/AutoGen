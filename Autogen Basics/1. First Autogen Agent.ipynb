{
 "cells": [
  {
   "cell_type": "markdown",
   "id": "00c9fc87",
   "metadata": {},
   "source": [
    "My First AutoGen Agent (V0.4)\n",
    "\n",
    "In this Notebook, we will build a simple agent using Autogen V0.4 and OpenAI's GPT-4. we will ask it a fun question and see how it responds. This is the latest version, so you are learning the cutting-edge way to create AI agents."
   ]
  },
  {
   "cell_type": "code",
   "execution_count": null,
   "id": "f5ef0ba0",
   "metadata": {},
   "outputs": [],
   "source": [
    "from autogen_agentchat.agents import AssistantAgent\n",
    "from autogen_ext.models.openai import OpenAIChatCompletionClient\n",
    "from dotenv import load_dotenv\n",
    "import os\n",
    "\n",
    "load_dotenv()\n",
    "\n",
    "api_key = os.getenv(\"OPENAI_API_KEY\")"
   ]
  },
  {
   "cell_type": "markdown",
   "id": "ed9c4b75",
   "metadata": {},
   "source": [
    "## Connecting to the Model\n",
    "\n",
    "We use 'OpenAIChatCompletionClient'  the link our agent to GPT-4 . In v0.4, this replaces the older 'llm_config' approach."
   ]
  },
  {
   "cell_type": "code",
   "execution_count": 59,
   "id": "740a9cbd",
   "metadata": {},
   "outputs": [],
   "source": [
    "model_client = OpenAIChatCompletionClient(model='gpt-4',api_key=api_key)"
   ]
  },
  {
   "cell_type": "markdown",
   "id": "10cebd1c",
   "metadata": {},
   "source": [
    "Building the Agent\n",
    "\n",
    "The AssistantAgent is a conversational AI that can respond to tasks. we will give it a name and connect to our model"
   ]
  },
  {
   "cell_type": "code",
   "execution_count": 60,
   "id": "897595ef",
   "metadata": {},
   "outputs": [],
   "source": [
    "assistant = AssistantAgent(name ='my_assistant',model_client=model_client)"
   ]
  },
  {
   "cell_type": "markdown",
   "id": "49e3905d",
   "metadata": {},
   "source": [
    "Asking the Agent a Question\n",
    "\n",
    "we will use the run method - a simple way in v0.4 to get a response. Watch this !"
   ]
  },
  {
   "cell_type": "code",
   "execution_count": null,
   "id": "6eb429d2",
   "metadata": {},
   "outputs": [],
   "source": [
    "result = await assistant.run(task=\"Tell me a fun fact about space.\")\n",
    "print(result)"
   ]
  },
  {
   "cell_type": "code",
   "execution_count": null,
   "id": "88d6d124",
   "metadata": {},
   "outputs": [],
   "source": [
    "print(result.messages[-1].content)"
   ]
  }
 ],
 "metadata": {
  "kernelspec": {
   "display_name": "venv",
   "language": "python",
   "name": "python3"
  },
  "language_info": {
   "codemirror_mode": {
    "name": "ipython",
    "version": 3
   },
   "file_extension": ".py",
   "mimetype": "text/x-python",
   "name": "python",
   "nbconvert_exporter": "python",
   "pygments_lexer": "ipython3",
   "version": "3.13.7"
  }
 },
 "nbformat": 4,
 "nbformat_minor": 5
}
